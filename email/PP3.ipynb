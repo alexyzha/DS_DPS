{
 "cells": [
  {
   "cell_type": "code",
   "execution_count": 53,
   "id": "e7c448ba-56a2-46aa-9c72-d3ffa0ca2072",
   "metadata": {},
   "outputs": [],
   "source": [
    "import pandas as pd\n",
    "import numpy as np\n",
    "import matplotlib.pyplot as plt\n",
    "from datetime import time\n",
    "import scipy.stats as stats"
   ]
  },
  {
   "cell_type": "code",
   "execution_count": 4,
   "id": "f46be504-b3d0-4220-b2b5-a6e3d246cce0",
   "metadata": {},
   "outputs": [],
   "source": [
    "data = pd.read_csv(\"../Desktop/Code/DS_DPS/data/crimes_v1.csv\", sep = ',')"
   ]
  },
  {
   "cell_type": "code",
   "execution_count": 5,
   "id": "6b5aaaa4-e8f9-4856-9ebd-0218361ea11a",
   "metadata": {},
   "outputs": [
    {
     "data": {
      "text/html": [
       "<div>\n",
       "<style scoped>\n",
       "    .dataframe tbody tr th:only-of-type {\n",
       "        vertical-align: middle;\n",
       "    }\n",
       "\n",
       "    .dataframe tbody tr th {\n",
       "        vertical-align: top;\n",
       "    }\n",
       "\n",
       "    .dataframe thead th {\n",
       "        text-align: right;\n",
       "    }\n",
       "</style>\n",
       "<table border=\"1\" class=\"dataframe\">\n",
       "  <thead>\n",
       "    <tr style=\"text-align: right;\">\n",
       "      <th></th>\n",
       "      <th>id</th>\n",
       "      <th>crime_type</th>\n",
       "      <th>date</th>\n",
       "      <th>time</th>\n",
       "      <th>location</th>\n",
       "      <th>incident_description</th>\n",
       "      <th>vehicle_description</th>\n",
       "      <th>age</th>\n",
       "      <th>eye_color</th>\n",
       "      <th>hair_color</th>\n",
       "      <th>height</th>\n",
       "      <th>race</th>\n",
       "      <th>sex</th>\n",
       "      <th>weight</th>\n",
       "      <th>additional_description</th>\n",
       "      <th>weapon</th>\n",
       "      <th>email_from</th>\n",
       "      <th>email_subject</th>\n",
       "      <th>message_id</th>\n",
       "    </tr>\n",
       "  </thead>\n",
       "  <tbody>\n",
       "    <tr>\n",
       "      <th>0</th>\n",
       "      <td>1</td>\n",
       "      <td>Aggravated Assault</td>\n",
       "      <td>2025-03-02</td>\n",
       "      <td>11:05 a.m.</td>\n",
       "      <td>Northeast corner of Jefferson Boulevard &amp; McCl...</td>\n",
       "      <td>The suspect brandished a knife at the victim. ...</td>\n",
       "      <td>Teal bicycle</td>\n",
       "      <td>39.0</td>\n",
       "      <td>NaN</td>\n",
       "      <td>Gray</td>\n",
       "      <td>5 feet 6 inches</td>\n",
       "      <td>NaN</td>\n",
       "      <td>Male</td>\n",
       "      <td>Slim build</td>\n",
       "      <td>Wearing a plaid shirt, black pants, black shoe...</td>\n",
       "      <td>Knife</td>\n",
       "      <td>USC Department of Public Safety &lt;uscpublicsafe...</td>\n",
       "      <td>Timely Warning Crime Alert - Aggravated Assault</td>\n",
       "      <td>19558e0be8cd7c02</td>\n",
       "    </tr>\n",
       "    <tr>\n",
       "      <th>1</th>\n",
       "      <td>2</td>\n",
       "      <td>NaN</td>\n",
       "      <td>2025-02-27</td>\n",
       "      <td>4:56 p.m.</td>\n",
       "      <td>At the intersection of 28th Street &amp; Hoover St...</td>\n",
       "      <td>The suspect ran up behind the victim and grope...</td>\n",
       "      <td>NaN</td>\n",
       "      <td>39.0</td>\n",
       "      <td>Brown</td>\n",
       "      <td>Short brown hair</td>\n",
       "      <td>5 feet 5 inches</td>\n",
       "      <td>Hispanic</td>\n",
       "      <td>Male</td>\n",
       "      <td>Medium build</td>\n",
       "      <td>Wearing black t-shirt and dark sweatpants or j...</td>\n",
       "      <td>NaN</td>\n",
       "      <td>USC Department of Public Safety &lt;uscpublicsafe...</td>\n",
       "      <td>Crime Alert - Sexual Battery/Fondling</td>\n",
       "      <td>1954a92157ad3085</td>\n",
       "    </tr>\n",
       "    <tr>\n",
       "      <th>2</th>\n",
       "      <td>3</td>\n",
       "      <td>Robbery</td>\n",
       "      <td>2025-02-25</td>\n",
       "      <td>8:49 a.m.</td>\n",
       "      <td>At the intersection of 30th Street &amp; Hoover St...</td>\n",
       "      <td>The suspect snatched the victim's phone from t...</td>\n",
       "      <td>NaN</td>\n",
       "      <td>25.0</td>\n",
       "      <td>NaN</td>\n",
       "      <td>Dark short hair</td>\n",
       "      <td>5 feet 7 inches</td>\n",
       "      <td>Hispanic</td>\n",
       "      <td>Male</td>\n",
       "      <td>Slim build</td>\n",
       "      <td>Wearing a blue shirt and blue jeans.</td>\n",
       "      <td>NaN</td>\n",
       "      <td>USC Department of Public Safety &lt;uscpublicsafe...</td>\n",
       "      <td>Timely Warning Crime Alert - Robbery</td>\n",
       "      <td>1953e62c1b20aab1</td>\n",
       "    </tr>\n",
       "    <tr>\n",
       "      <th>3</th>\n",
       "      <td>4</td>\n",
       "      <td>Burglary</td>\n",
       "      <td>2025-02-20</td>\n",
       "      <td>3:55 a.m.</td>\n",
       "      <td>UPC Troy Hall at 3025 Royal Street</td>\n",
       "      <td>The Department of Public Safety received a del...</td>\n",
       "      <td>NaN</td>\n",
       "      <td>25.0</td>\n",
       "      <td>Brown</td>\n",
       "      <td>Dark brown</td>\n",
       "      <td>NaN</td>\n",
       "      <td>Hispanic</td>\n",
       "      <td>Male</td>\n",
       "      <td>Slim build</td>\n",
       "      <td>Wearing beige cargo pants, white shoes, and a ...</td>\n",
       "      <td>NaN</td>\n",
       "      <td>USC Department of Public Safety &lt;uscpublicsafe...</td>\n",
       "      <td>Timely Warning Crime Alert - Burglary</td>\n",
       "      <td>19524e109810f11f</td>\n",
       "    </tr>\n",
       "    <tr>\n",
       "      <th>4</th>\n",
       "      <td>5</td>\n",
       "      <td>NaN</td>\n",
       "      <td>2025-02-19</td>\n",
       "      <td>5:30 a.m.</td>\n",
       "      <td>Off UPC campus in the 1200 block of 30th Street</td>\n",
       "      <td>While the victim was asleep, the suspect enter...</td>\n",
       "      <td>NaN</td>\n",
       "      <td>NaN</td>\n",
       "      <td>NaN</td>\n",
       "      <td>NaN</td>\n",
       "      <td>NaN</td>\n",
       "      <td>Hispanic</td>\n",
       "      <td>Male</td>\n",
       "      <td>Medium build</td>\n",
       "      <td>Wearing a black beanie, black sweatshirt, gray...</td>\n",
       "      <td>NaN</td>\n",
       "      <td>USC Department of Public Safety &lt;uscpublicsafe...</td>\n",
       "      <td>Crime Alert -  Burglary &amp; Motor Vehicle Theft</td>\n",
       "      <td>1951fc48caee7216</td>\n",
       "    </tr>\n",
       "  </tbody>\n",
       "</table>\n",
       "</div>"
      ],
      "text/plain": [
       "   id          crime_type        date        time  \\\n",
       "0   1  Aggravated Assault  2025-03-02  11:05 a.m.   \n",
       "1   2                 NaN  2025-02-27   4:56 p.m.   \n",
       "2   3             Robbery  2025-02-25   8:49 a.m.   \n",
       "3   4            Burglary  2025-02-20   3:55 a.m.   \n",
       "4   5                 NaN  2025-02-19   5:30 a.m.   \n",
       "\n",
       "                                            location  \\\n",
       "0  Northeast corner of Jefferson Boulevard & McCl...   \n",
       "1  At the intersection of 28th Street & Hoover St...   \n",
       "2  At the intersection of 30th Street & Hoover St...   \n",
       "3                 UPC Troy Hall at 3025 Royal Street   \n",
       "4    Off UPC campus in the 1200 block of 30th Street   \n",
       "\n",
       "                                incident_description vehicle_description  \\\n",
       "0  The suspect brandished a knife at the victim. ...        Teal bicycle   \n",
       "1  The suspect ran up behind the victim and grope...                 NaN   \n",
       "2  The suspect snatched the victim's phone from t...                 NaN   \n",
       "3  The Department of Public Safety received a del...                 NaN   \n",
       "4  While the victim was asleep, the suspect enter...                 NaN   \n",
       "\n",
       "    age eye_color        hair_color           height      race   sex  \\\n",
       "0  39.0       NaN              Gray  5 feet 6 inches       NaN  Male   \n",
       "1  39.0     Brown  Short brown hair  5 feet 5 inches  Hispanic  Male   \n",
       "2  25.0       NaN   Dark short hair  5 feet 7 inches  Hispanic  Male   \n",
       "3  25.0     Brown        Dark brown              NaN  Hispanic  Male   \n",
       "4   NaN       NaN               NaN              NaN  Hispanic  Male   \n",
       "\n",
       "         weight                             additional_description weapon  \\\n",
       "0    Slim build  Wearing a plaid shirt, black pants, black shoe...  Knife   \n",
       "1  Medium build  Wearing black t-shirt and dark sweatpants or j...    NaN   \n",
       "2    Slim build               Wearing a blue shirt and blue jeans.    NaN   \n",
       "3    Slim build  Wearing beige cargo pants, white shoes, and a ...    NaN   \n",
       "4  Medium build  Wearing a black beanie, black sweatshirt, gray...    NaN   \n",
       "\n",
       "                                          email_from  \\\n",
       "0  USC Department of Public Safety <uscpublicsafe...   \n",
       "1  USC Department of Public Safety <uscpublicsafe...   \n",
       "2  USC Department of Public Safety <uscpublicsafe...   \n",
       "3  USC Department of Public Safety <uscpublicsafe...   \n",
       "4  USC Department of Public Safety <uscpublicsafe...   \n",
       "\n",
       "                                     email_subject        message_id  \n",
       "0  Timely Warning Crime Alert - Aggravated Assault  19558e0be8cd7c02  \n",
       "1            Crime Alert - Sexual Battery/Fondling  1954a92157ad3085  \n",
       "2             Timely Warning Crime Alert - Robbery  1953e62c1b20aab1  \n",
       "3            Timely Warning Crime Alert - Burglary  19524e109810f11f  \n",
       "4    Crime Alert -  Burglary & Motor Vehicle Theft  1951fc48caee7216  "
      ]
     },
     "execution_count": 5,
     "metadata": {},
     "output_type": "execute_result"
    }
   ],
   "source": [
    "data.head()"
   ]
  },
  {
   "cell_type": "code",
   "execution_count": 6,
   "id": "c97b18c5-36e4-4f9c-9452-a518d7ef60fd",
   "metadata": {},
   "outputs": [
    {
     "data": {
      "text/plain": [
       "0    11:05 a.m.\n",
       "1     4:56 p.m.\n",
       "2     8:49 a.m.\n",
       "3     3:55 a.m.\n",
       "4     5:30 a.m.\n",
       "Name: time, dtype: object"
      ]
     },
     "execution_count": 6,
     "metadata": {},
     "output_type": "execute_result"
    }
   ],
   "source": [
    "data[\"time\"].head()"
   ]
  },
  {
   "cell_type": "code",
   "execution_count": 7,
   "id": "c57795eb-fe10-4725-ad79-359a07411cdc",
   "metadata": {},
   "outputs": [
    {
     "data": {
      "text/plain": [
       "time\n",
       "4:00 p.m.     2\n",
       "3:55 a.m.     2\n",
       "4:50 a.m.     2\n",
       "7:55 a.m.     2\n",
       "11:05 a.m.    1\n",
       "             ..\n",
       "6:51 p.m.     1\n",
       "12:27 p.m.    1\n",
       "9:10 p.m.     1\n",
       "5:58 p.m.     1\n",
       "10:30 pm      1\n",
       "Name: count, Length: 108, dtype: int64"
      ]
     },
     "execution_count": 7,
     "metadata": {},
     "output_type": "execute_result"
    }
   ],
   "source": [
    "data[\"time\"].value_counts()"
   ]
  },
  {
   "cell_type": "markdown",
   "id": "700884b0-d3c2-4d55-b088-12a0b78d05fd",
   "metadata": {},
   "source": [
    "## Filter data"
   ]
  },
  {
   "cell_type": "code",
   "execution_count": 18,
   "id": "0d14b0eb-0f5f-4d9b-845d-057d5d53bff6",
   "metadata": {},
   "outputs": [],
   "source": [
    "filtered = data[~data[\"time\"].isna()].copy()"
   ]
  },
  {
   "cell_type": "code",
   "execution_count": 19,
   "id": "6b116554-c8f7-42b3-bb9a-033c4971e729",
   "metadata": {},
   "outputs": [
    {
     "data": {
      "text/plain": [
       "time\n",
       "4:00 p.m.     2\n",
       "3:55 a.m.     2\n",
       "4:50 a.m.     2\n",
       "7:55 a.m.     2\n",
       "11:05 a.m.    1\n",
       "             ..\n",
       "6:51 p.m.     1\n",
       "12:27 p.m.    1\n",
       "9:10 p.m.     1\n",
       "5:58 p.m.     1\n",
       "10:30 pm      1\n",
       "Name: count, Length: 108, dtype: int64"
      ]
     },
     "execution_count": 19,
     "metadata": {},
     "output_type": "execute_result"
    }
   ],
   "source": [
    "filtered[\"time\"].value_counts()"
   ]
  },
  {
   "cell_type": "code",
   "execution_count": 23,
   "id": "9b5d087c-e119-4017-8a68-300369c9000e",
   "metadata": {},
   "outputs": [
    {
     "name": "stdout",
     "output_type": "stream",
     "text": [
      "Preserved: 112 of original: 155\n"
     ]
    }
   ],
   "source": [
    "print(f'Preserved: {len(filtered)} of original: {len(data)}')"
   ]
  },
  {
   "cell_type": "code",
   "execution_count": 26,
   "id": "b8fdf57d-bb61-41aa-b9f8-78d30123658c",
   "metadata": {},
   "outputs": [],
   "source": [
    "filtered[\"cleaned_time\"] = filtered[\"time\"].str.replace(\".\", \"\", regex = False)"
   ]
  },
  {
   "cell_type": "code",
   "execution_count": 27,
   "id": "907ab169-6f8a-4139-aaaf-94c4a033ed50",
   "metadata": {},
   "outputs": [],
   "source": [
    "filtered[\"parsed_time\"] = pd.to_datetime(filtered[\"cleaned_time\"], format = \"%I:%M %p\").dt.time"
   ]
  },
  {
   "cell_type": "code",
   "execution_count": 28,
   "id": "9577ee10-0e97-41c5-8d9f-83ab3b26f390",
   "metadata": {},
   "outputs": [],
   "source": [
    "filtered[\"minutes\"] = filtered[\"parsed_time\"].apply(lambda t: t.hour * 60 + t.minute)"
   ]
  },
  {
   "cell_type": "markdown",
   "id": "3663217c-9d54-4cc2-a03f-712da9d6defc",
   "metadata": {},
   "source": [
    "## 7 number summary"
   ]
  },
  {
   "cell_type": "code",
   "execution_count": 31,
   "id": "4b1147fa-3a28-4d6e-a2d7-61ba0873220c",
   "metadata": {},
   "outputs": [],
   "source": [
    "def min2time(m):\n",
    "    h, m = divmod(int(m), 60)\n",
    "    return time(h % 24, m)"
   ]
  },
  {
   "cell_type": "code",
   "execution_count": 32,
   "id": "0e50d9e1-56f9-43ca-839f-48d6e8a9e8b4",
   "metadata": {},
   "outputs": [
    {
     "name": "stdout",
     "output_type": "stream",
     "text": [
      "P2        00:35:00\n",
      "P9        02:59:00\n",
      "Q1        08:01:00\n",
      "Median    15:25:00\n",
      "Q3        19:40:00\n",
      "P91       22:25:00\n",
      "P98       23:00:00\n",
      "Name: minutes, dtype: object\n"
     ]
    }
   ],
   "source": [
    "percentiles = [0.02, 0.09, 0.25, 0.50, 0.75, 0.91, 0.98]\n",
    "summary = filtered[\"minutes\"].quantile(percentiles)\n",
    "summary.index = [\"P2\", \"P9\", \"Q1\", \"Median\", \"Q3\", \"P91\", \"P98\"]\n",
    "summary_time = summary.apply(min2time)\n",
    "print(summary_time)"
   ]
  },
  {
   "cell_type": "code",
   "execution_count": 46,
   "id": "9aa368c3-cade-4fdc-8a21-46b74dd0c64e",
   "metadata": {},
   "outputs": [
    {
     "data": {
      "image/png": "[encoded data removed]",
      "text/plain": [
       "<Figure size 640x480 with 1 Axes>"
      ]
     },
     "metadata": {},
     "output_type": "display_data"
    }
   ],
   "source": [
    "plt.hist(filtered[\"minutes\"], bins = 20);"
   ]
  },
  {
   "cell_type": "code",
   "execution_count": 35,
   "id": "0dc5a222-26b9-4ea1-ad5f-40f3ffa6ca8e",
   "metadata": {},
   "outputs": [
    {
     "data": {
      "text/plain": [
       "1439"
      ]
     },
     "execution_count": 35,
     "metadata": {},
     "output_type": "execute_result"
    }
   ],
   "source": [
    "np.max(filtered[\"minutes\"]) # 24 * 60 = 1440"
   ]
  },
  {
   "cell_type": "markdown",
   "id": "8e290663-63f0-40d2-8ef2-26910a5abc51",
   "metadata": {},
   "source": [
    "## Question 3"
   ]
  },
  {
   "cell_type": "code",
   "execution_count": 48,
   "id": "e0837f06-cae2-4160-97da-c34bf0e6ef66",
   "metadata": {},
   "outputs": [
    {
     "name": "stdout",
     "output_type": "stream",
     "text": [
      "SAMP DIST:\n",
      "Mean:  13:37:00\n",
      "SE:  00:38:00\n",
      "STDEV:  06:50:00\n"
     ]
    }
   ],
   "source": [
    "# stdev\n",
    "n = filtered[\"minutes\"].count()\n",
    "stdev = filtered[\"minutes\"].std()\n",
    "stderr = stdev / np.sqrt(n)\n",
    "\n",
    "print(\"SAMP DIST:\")\n",
    "print(\"Mean: \", min2time(np.mean(filtered[\"minutes\"])))\n",
    "print(\"SE: \", min2time(stderr))\n",
    "print(\"STDEV: \", min2time(stdev))"
   ]
  },
  {
   "cell_type": "code",
   "execution_count": 49,
   "id": "e9ab2fae-7047-47e7-8ff5-6394a2cd8e1b",
   "metadata": {},
   "outputs": [
    {
     "data": {
      "text/plain": [
       "410.41626299230813"
      ]
     },
     "execution_count": 49,
     "metadata": {},
     "output_type": "execute_result"
    }
   ],
   "source": [
    "stdev"
   ]
  },
  {
   "cell_type": "markdown",
   "id": "1f222790-55c4-401e-afd0-5e205bbebe6f",
   "metadata": {},
   "source": [
    "## 95% CI"
   ]
  },
  {
   "cell_type": "code",
   "execution_count": 52,
   "id": "e90c8e91-d60c-4361-b3bf-f5e08eaa076c",
   "metadata": {},
   "outputs": [
    {
     "name": "stdout",
     "output_type": "stream",
     "text": [
      "[12:21:00, 14:53:00]\n"
     ]
    }
   ],
   "source": [
    "x = filtered[\"minutes\"]\n",
    "n = x.count()\n",
    "mean = x.mean()\n",
    "stdev = x.std()\n",
    "se = stdev / np.sqrt(n)\n",
    "z = 1.96\n",
    "\n",
    "cil = mean - (z * se)\n",
    "ciu = mean + (z * se)\n",
    "print(f'[{min2time(cil)}, {min2time(ciu)}]')"
   ]
  },
  {
   "cell_type": "markdown",
   "id": "0a9e37bf-27b1-4232-962b-ead25903ca3a",
   "metadata": {},
   "source": [
    "## P-value for Ha = 2-sided"
   ]
  },
  {
   "cell_type": "code",
   "execution_count": 56,
   "id": "debc816a-67e3-4926-95b7-a9c0f22bbf35",
   "metadata": {},
   "outputs": [
    {
     "name": "stdout",
     "output_type": "stream",
     "text": [
      "H0: 19:00:00\n",
      "Mean: 13:37:00\n",
      "z: -8.322210300740805\n",
      "p: 8.633794808756251e-17\n"
     ]
    }
   ],
   "source": [
    "H0 = 1140     # H0 = 7:00 PM\n",
    "x = filtered[\"minutes\"]\n",
    "n = x.count()\n",
    "mean = x.mean()\n",
    "stdev = x.std()\n",
    "se = stdev / np.sqrt(n)\n",
    "z = (mean - H0) / se\n",
    "p = 2 * stats.norm.sf(abs(z))\n",
    "print(f'H0: {min2time(H0)}')\n",
    "print(f'Mean: {min2time(mean)}')\n",
    "print(f'z: {z}')\n",
    "print(f'p: {p}')"
   ]
  },
  {
   "cell_type": "code",
   "execution_count": null,
   "id": "b77ae7fc-38b2-4527-8784-0700ddf10fac",
   "metadata": {},
   "outputs": [],
   "source": []
  },
  {
   "cell_type": "code",
   "execution_count": null,
   "id": "9e4637ef-469f-44ae-89bb-4072b6b5f664",
   "metadata": {},
   "outputs": [],
   "source": []
  }
 ],
 "metadata": {
  "kernelspec": {
   "display_name": "Python 3 (ipykernel)",
   "language": "python",
   "name": "python3"
  },
  "language_info": {
   "codemirror_mode": {
    "name": "ipython",
    "version": 3
   },
   "file_extension": ".py",
   "mimetype": "text/x-python",
   "name": "python",
   "nbconvert_exporter": "python",
   "pygments_lexer": "ipython3",
   "version": "3.12.7"
  }
 },
 "nbformat": 4,
 "nbformat_minor": 5
}
